{
 "cells": [
  {
   "cell_type": "code",
   "execution_count": 1,
   "id": "1c6c1e9a-899b-4a7e-b87c-9cd3d5b554d6",
   "metadata": {},
   "outputs": [],
   "source": [
    "import pandas as pd\n",
    "import numpy as np\n",
    "import matplotlib.pyplot as plt\n",
    "import seaborn as sns"
   ]
  },
  {
   "cell_type": "code",
   "execution_count": 4,
   "id": "b150c8f0-2035-4589-8003-fbf3a8051b15",
   "metadata": {},
   "outputs": [],
   "source": [
    "df = pd.read_csv('Video Game Sales/vgsales.csv')"
   ]
  },
  {
   "cell_type": "code",
   "execution_count": null,
   "id": "f653bf46-79bf-4b49-b9dd-60b30085396a",
   "metadata": {},
   "outputs": [],
   "source": [
    "print(\"First 5 rows\")\n",
    "print(df.head())\n",
    "print(\"\\nDataset Info!! :\")\n",
    "df.info()\n",
    "print(\"\\nStatsical Summar"
   ]
  }
 ],
 "metadata": {
  "kernelspec": {
   "display_name": "Python [conda env:base] *",
   "language": "python",
   "name": "conda-base-py"
  },
  "language_info": {
   "codemirror_mode": {
    "name": "ipython",
    "version": 3
   },
   "file_extension": ".py",
   "mimetype": "text/x-python",
   "name": "python",
   "nbconvert_exporter": "python",
   "pygments_lexer": "ipython3",
   "version": "3.13.5"
  }
 },
 "nbformat": 4,
 "nbformat_minor": 5
}
